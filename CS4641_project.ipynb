{
  "cells": [
    {
      "cell_type": "code",
      "execution_count": null,
      "metadata": {
        "id": "UyCN9cZvrPQe"
      },
      "outputs": [],
      "source": [
        "# Functions Import\n",
        "import pandas as pd\n",
        "import numpy as np\n",
        "import io\n",
        "import joblib\n",
        "from sklearn.impute import SimpleImputer\n",
        "from sklearn.model_selection import train_test_split\n",
        "from sklearn.preprocessing import StandardScaler\n",
        "sc = StandardScaler()\n",
        "from sklearn.decomposition import PCA\n",
        "pca = PCA()\n",
        "import matplotlib.pyplot as plt\n",
        "from sklearn.cluster import KMeans\n",
        "from sklearn.mixture import GaussianMixture\n",
        "from scipy import cluster\n",
        "import seaborn as sns; sns.set()  # for plot styling\n",
        "from sklearn.metrics import accuracy_score\n",
        "from sklearn.metrics import confusion_matrix,classification_report\n",
        "from sklearn.ensemble import RandomForestClassifier\n",
        "from sklearn.model_selection import RandomizedSearchCV\n",
        "import xgboost as xgb"
      ]
    },
    {
      "cell_type": "code",
      "source": [
        "from google.colab import drive\n",
        "drive.mount('drive')"
      ],
      "metadata": {
        "id": "KvtH9hLEDbP-",
        "colab": {
          "base_uri": "https://localhost:8080/"
        },
        "outputId": "76a2ba81-66ad-45a4-c8c5-8c2827d36d08"
      },
      "execution_count": null,
      "outputs": [
        {
          "output_type": "stream",
          "name": "stdout",
          "text": [
            "Drive already mounted at drive; to attempt to forcibly remount, call drive.mount(\"drive\", force_remount=True).\n"
          ]
        }
      ]
    },
    {
      "cell_type": "code",
      "source": [
        "# concatenate all weekday data\n",
        "totalMatrix = pd.read_csv('/content/drive/MyDrive/ML Project/totalMatrix_cleaned.csv')\n",
        "totalMatrix = totalMatrix.drop('Unnamed: 0', 1)\n",
        "X = totalMatrix.drop(' Label', 1)\n",
        "y = totalMatrix[' Label']\n",
        "# replace all non-Benign labels to \"Attack\"\n",
        "# effectively a binary label now\n",
        "y.loc[~(y == 'BENIGN')]='ATTACK'\n",
        "#display(totalMatrix)\n",
        "print(totalMatrix.shape)"
      ],
      "metadata": {
        "id": "k_bcEjKhJ6Nc"
      },
      "execution_count": null,
      "outputs": []
    },
    {
      "cell_type": "code",
      "source": [
        "# for multiclass classification\n",
        "totalMatrix = pd.read_csv('/content/drive/MyDrive/ML Project/totalMatrix_cleaned.csv')\n",
        "totalMatrix = totalMatrix.drop('Unnamed: 0', 1)\n",
        "X = totalMatrix.drop(' Label', 1)\n",
        "y = totalMatrix[' Label']\n",
        "y.loc[(y == 'Web Attack � Brute Force')] ='Web Attack'\n",
        "y.loc[(y == 'Web Attack � XSS')] ='Web Attack'\n",
        "y.loc[(y == 'Web Attack � Sql Injection')] ='Web Attack'"
      ],
      "metadata": {
        "id": "NjoKzaXzSL2l"
      },
      "execution_count": null,
      "outputs": []
    },
    {
      "cell_type": "code",
      "source": [
        "def print_confusion_matrix(confusion_matrix, class_names, Cmap, figsize = (20,14), fontsize=12):\n",
        "    \"\"\"Prints a confusion matrix, as returned by sklearn.metrics.confusion_matrix, as a heatmap.\n",
        "    \n",
        "    Note that due to returning the created figure object, when this funciton is called in a\n",
        "    notebook the figure willl be printed twice. To prevent this, either append ; to your\n",
        "    function call, or modify the function by commenting out the return expression.\n",
        "    \n",
        "    Arguments\n",
        "    ---------\n",
        "    confusion_matrix: numpy.ndarray\n",
        "        The numpy.ndarray object returned from a call to sklearn.metrics.confusion_matrix. \n",
        "        Similarly constructed ndarrays can also be used.\n",
        "    class_names: list\n",
        "        An ordered list of class names, in the order they index the given confusion matrix.\n",
        "    figsize: tuple\n",
        "        A 2-long tuple, the first value determining the horizontal size of the ouputted figure,\n",
        "        the second determining the vertical size. Defaults to (10,7).\n",
        "    fontsize: int\n",
        "        Font size for axes labels. Defaults to 14.\n",
        "        \n",
        "    Returns\n",
        "    -------\n",
        "    matplotlib.figure.Figure\n",
        "        The resulting confusion matrix figure\n",
        "    \"\"\"\n",
        "    df_cm = pd.DataFrame(\n",
        "        confusion_matrix, index=class_names, columns=class_names, \n",
        "    )\n",
        "    fig = plt.figure(figsize=figsize)\n",
        "    try:\n",
        "        heatmap = sns.heatmap(df_cm, cmap=Cmap, square=True, annot=True, fmt='d', cbar=False)\n",
        "    except ValueError:\n",
        "        raise ValueError(\"Confusion matrix values must be integers.\")\n",
        "    heatmap.yaxis.set_ticklabels(heatmap.yaxis.get_ticklabels(), rotation=0, ha='right', fontsize=fontsize)\n",
        "    heatmap.xaxis.set_ticklabels(heatmap.xaxis.get_ticklabels(), rotation=45, ha='right', fontsize=fontsize)\n",
        "    plt.ylabel('True label')\n",
        "    plt.xlabel('Predicted label')\n",
        "    # Note that due to returning the created figure object, when this funciton is called in a notebook\n",
        "    # the figure willl be printed twice. To prevent this, either append ; to your function call, or\n",
        "    # modify the function by commenting out this return expression.\n",
        "    return fig"
      ],
      "metadata": {
        "id": "bXAQox4rgLrh"
      },
      "execution_count": null,
      "outputs": []
    },
    {
      "cell_type": "markdown",
      "source": [
        "# Part 1: Testing Data Extraction\n",
        "Randomly select 20% from each day for test data"
      ],
      "metadata": {
        "id": "uezkC4pM9Jkq"
      }
    },
    {
      "cell_type": "code",
      "source": [
        "# return matrices:\n",
        "# trainig         -- X_train -- (2262300 x 78)\n",
        "# training_label  -- y_train -- (2262300 x 1)\n",
        "# testing         -- X_test  -- (565576 x 78)\n",
        "# testing_label   -- y_test  -- (565576 x 1)\n",
        "X_train, X_test, y_train, y_test = train_test_split(X, y, test_size=0.2, random_state=0)\n",
        "# obtain a 0 --> Benign, 1 --> Attack, binary label array\n",
        "#unsupervised_y_train = np.array([y_train == 'BENIGN']).T"
      ],
      "metadata": {
        "id": "b0QM1HTk90aT"
      },
      "execution_count": null,
      "outputs": []
    },
    {
      "cell_type": "markdown",
      "source": [
        "# Part 2: Feature Pre-processing\n",
        "## steps\n",
        "\n",
        "1. Extract all attack rows from training data (identify anything but 'BENIGN' on last column)\n",
        "2. Randomly select BENIGN rows from the rest of training data. <font color = 'orange'>Our goal is to number-wise match 10 BENIGN data to 1 ANOMALY data so that the weights of attacks are emphasized for feature pre-processing.</font>\n",
        "3. Combine the two matrices and run PCS algorithm.\n"
      ],
      "metadata": {
        "id": "S4aGUoon93vo"
      }
    },
    {
      "cell_type": "code",
      "source": [
        "# Normalization\n",
        "sc = StandardScaler()\n",
        "X_train = sc.fit_transform(X_train)\n",
        "X_test = sc.transform(X_test)\n",
        "# PCA\n",
        "pca = PCA()\n",
        "X_train = pca.fit_transform(X_train)\n",
        "X_test = pca.transform(X_test)"
      ],
      "metadata": {
        "id": "Zqv2e8JjA1xu"
      },
      "execution_count": null,
      "outputs": []
    },
    {
      "cell_type": "code",
      "source": [
        "# variances\n",
        "explained_variance = pca.explained_variance_ratio_\n",
        "print(explained_variance)"
      ],
      "metadata": {
        "id": "plfWyZVzgrs6"
      },
      "execution_count": null,
      "outputs": []
    },
    {
      "cell_type": "code",
      "source": [
        "#decide on number of components\n",
        "plt.plot(np.cumsum(pca.explained_variance_ratio_))\n",
        "plt.xlabel('number of components')\n",
        "plt.ylabel('cumulative explained variance');"
      ],
      "metadata": {
        "id": "48WbiFB2HWtD",
        "colab": {
          "base_uri": "https://localhost:8080/",
          "height": 285
        },
        "outputId": "4ca0a139-ce4a-464b-ded7-bb47e5e0572b"
      },
      "execution_count": null,
      "outputs": [
        {
          "output_type": "display_data",
          "data": {
            "text/plain": [
              "<Figure size 432x288 with 1 Axes>"
            ],
            "image/png": "[encoded data removed]"
          },
          "metadata": {
            "needs_background": "light"
          }
        }
      ]
    },
    {
      "cell_type": "code",
      "source": [
        "# 30 components accounts for over 95%of cumulative variance\n",
        "pca = PCA(n_components=30)\n",
        "X_train = pca.fit_transform(X_train)\n",
        "X_test = pca.transform(X_test)"
      ],
      "metadata": {
        "id": "flf3yGVBiD9V"
      },
      "execution_count": null,
      "outputs": []
    },
    {
      "cell_type": "code",
      "source": [
        "y_train.value_counts()"
      ],
      "metadata": {
        "colab": {
          "base_uri": "https://localhost:8080/"
        },
        "id": "ncJM5b0nVTRb",
        "outputId": "9285f488-1b17-498d-c9e5-e90f4853f38f"
      },
      "execution_count": null,
      "outputs": [
        {
          "output_type": "execute_result",
          "data": {
            "text/plain": [
              "BENIGN              1817404\n",
              "DoS Hulk             184099\n",
              "PortScan             126866\n",
              "DDoS                 102337\n",
              "DoS GoldenEye          8213\n",
              "FTP-Patator            6334\n",
              "SSH-Patator            4698\n",
              "DoS slowloris          4577\n",
              "DoS Slowhttptest       4416\n",
              "Web Attack             1752\n",
              "Bot                    1564\n",
              "Infiltration             31\n",
              "Heartbleed                9\n",
              "Name:  Label, dtype: int64"
            ]
          },
          "metadata": {},
          "execution_count": 7
        }
      ]
    },
    {
      "cell_type": "markdown",
      "metadata": {
        "id": "6vynNUMJyFhJ"
      },
      "source": [
        "# Part 3: Unsupervised Learning\n",
        "## Outline\n",
        "\n",
        "1. K-means\n",
        "2. Gaussian-Mixture Model"
      ]
    },
    {
      "cell_type": "code",
      "source": [
        "# code for K-means\n",
        "cluster = KMeans(n_clusters=2, random_state = 0).fit_predict (X_train) \n",
        "# modify such that 0 is benign and 1 is attack\n",
        "if np.bincount(cluster)[0] > np.bincount(cluster)[1]:\n",
        "    cluster = 1 - cluster\n",
        "# create plots with pre-defined labels.\n",
        "fig, ax = plt.subplots()\n",
        "ax.scatter(X_train[cluster == 0, 0] , X_train[cluster == 0, 1], label='Attack')\n",
        "ax.scatter(X_train[cluster == 1, 0] , X_train[cluster == 1, 1], label='Benign')\n",
        "legend = ax.legend(loc='upper right', fontsize='large')\n",
        "plt.show()"
      ],
      "metadata": {
        "id": "vl_pmIRFjqlt"
      },
      "execution_count": null,
      "outputs": []
    },
    {
      "cell_type": "code",
      "source": [
        "print(\"Total number of mtached labels from Kmeans: \", accuracy_score(unsupervised_y_train, cluster, normalize=False))\n",
        "print()\n",
        "print(classification_report(unsupervised_y_train, cluster))\n",
        "mat = confusion_matrix(unsupervised_y_train, cluster)\n",
        "sns.heatmap(mat.T, square=True, annot=True, fmt='d', cbar=False,\n",
        "            xticklabels=['ATTACK', 'BENIGN'],\n",
        "            yticklabels=['ATTACK', 'BENIGN'])\n",
        "plt.title('KMeans Confusion Matrix')\n",
        "plt.xlabel('true label')\n",
        "plt.ylabel('predicted label');"
      ],
      "metadata": {
        "id": "yTTNhfWnCJiJ"
      },
      "execution_count": null,
      "outputs": []
    },
    {
      "cell_type": "code",
      "source": [
        "# code for GMM\n",
        "gm = GaussianMixture(n_components=2,  covariance_type='full', random_state=0).fit_predict(X_train)\n",
        "# modify such that 0 is benign and 1 is attack\n",
        "if np.bincount(gm)[0] > np.bincount(gm)[1]:\n",
        "    gm = 1 - gm\n",
        "fig, ax = plt.subplots()\n",
        "ax.scatter(X_train[gm == 0, 0] , X_train[gm == 0, 1], label='Attack')\n",
        "ax.scatter(X_train[gm == 1, 0] , X_train[gm == 1, 1], label='Benign')\n",
        "legend = ax.legend(loc='upper right', fontsize='large')\n",
        "plt.show()"
      ],
      "metadata": {
        "id": "KmZfPN3aMud3"
      },
      "execution_count": null,
      "outputs": []
    },
    {
      "cell_type": "code",
      "source": [
        "print(\"Total number of mtached labels from GMM: \", accuracy_score(unsupervised_y_train, gm, normalize=False))\n",
        "print()\n",
        "print(classification_report(unsupervised_y_train, gm))\n",
        "mat = confusion_matrix(unsupervised_y_train, gm)\n",
        "sns.heatmap(mat.T, square=True, annot=True, fmt='d', cbar=False,\n",
        "            xticklabels=['ATTACK', 'BENIGN'],\n",
        "            yticklabels=['ATTACK', 'BENIGN'])\n",
        "plt.title('GMM Confusion Matrix')\n",
        "plt.xlabel('true label')\n",
        "plt.ylabel('predicted label');"
      ],
      "metadata": {
        "id": "qNVVOKcqNOQT"
      },
      "execution_count": null,
      "outputs": []
    },
    {
      "cell_type": "markdown",
      "source": [
        "# Part 4: Supervised Learning -- Random Forest"
      ],
      "metadata": {
        "id": "95OlYbuZLJWH"
      }
    },
    {
      "cell_type": "code",
      "source": [
        "# code for Random Forest\n",
        "#model = RandomForestClassifier(n_estimators=6, max_features='sqrt', max_depth=45, min_samples_split=15, min_samples_leaf=3)\n",
        "model = RandomForestClassifier(n_estimators=20)\n",
        "model.fit(X_train, y_train)\n",
        "ypred = model.predict(X_test)\n",
        "print(confusion_matrix(y_test, ypred))"
      ],
      "metadata": {
        "id": "3Vj5kYAbtaRY",
        "colab": {
          "base_uri": "https://localhost:8080/"
        },
        "outputId": "d47f51df-f982-43d9-be3d-c394a85dc2e8"
      },
      "execution_count": null,
      "outputs": [
        {
          "output_type": "stream",
          "name": "stdout",
          "text": [
            "[[111318    342]\n",
            " [   349 453567]]\n"
          ]
        }
      ]
    },
    {
      "cell_type": "code",
      "source": [
        "print(classification_report(ypred, y_test, digits=4))\n",
        "mat_labels = np.unique(y_train)\n",
        "mat = confusion_matrix(y_test, ypred).T\n",
        "mat_df = pd.DataFrame(mat, index=mat_labels, columns=mat_labels)\n",
        "cmap = sns.diverging_palette(20,10, as_cmap=True)\n",
        "print_confusion_matrix(mat_df, mat_labels, Cmap=\"Reds\", figsize = (10, 7))\n",
        "#sns.heatmap(mat.T, square=True, annot=True, fmt='d', cbar=False, cmap=cmap\n",
        "#            xticklabels=['ATTACK', 'BENIGN'],\n",
        "#            yticklabels=['ATTACK', 'BENIGN'])\n",
        "plt.title('Random Forest Binary Confusion Matrix')\n",
        "plt.xlabel('true label')\n",
        "plt.ylabel('predicted label');"
      ],
      "metadata": {
        "id": "X40ZtBIA90jw",
        "colab": {
          "base_uri": "https://localhost:8080/",
          "height": 657
        },
        "outputId": "91bb8a85-8da6-46cb-edfd-50a19d327088"
      },
      "execution_count": null,
      "outputs": [
        {
          "output_type": "stream",
          "name": "stdout",
          "text": [
            "              precision    recall  f1-score   support\n",
            "\n",
            "      ATTACK     0.9969    0.9969    0.9969    111667\n",
            "      BENIGN     0.9992    0.9992    0.9992    453909\n",
            "\n",
            "    accuracy                         0.9988    565576\n",
            "   macro avg     0.9981    0.9981    0.9981    565576\n",
            "weighted avg     0.9988    0.9988    0.9988    565576\n",
            "\n"
          ]
        },
        {
          "output_type": "display_data",
          "data": {
            "text/plain": [
              "<Figure size 720x504 with 1 Axes>"
            ],
            "image/png": "[encoded data removed]"
          },
          "metadata": {
            "needs_background": "light"
          }
        }
      ]
    },
    {
      "cell_type": "code",
      "source": [
        "cmap = sns.diverging_palette(20,10, as_cmap=True)\n",
        "print_confusion_matrix(mat_df, mat_labels, Cmap=\"Reds\", figsize = (10, 7))\n",
        "plt.rc('font', size=12)\n",
        "plt.rc('axes', titlesize=15)\n",
        "plt.title('Random Forest Confusion Matrix w/o Cross Validation')\n",
        "plt.xlabel('true label')\n",
        "plt.ylabel('predicted label');"
      ],
      "metadata": {
        "colab": {
          "base_uri": "https://localhost:8080/",
          "height": 498
        },
        "id": "EBlSr8GSg6dp",
        "outputId": "de71c3d0-0e0a-4f6e-e507-793439354b9a"
      },
      "execution_count": null,
      "outputs": [
        {
          "output_type": "display_data",
          "data": {
            "text/plain": [
              "<Figure size 720x504 with 1 Axes>"
            ],
            "image/png": "[encoded data removed]"
          },
          "metadata": {
            "needs_background": "light"
          }
        }
      ]
    },
    {
      "cell_type": "code",
      "source": [
        "ypred = model.predict(X_test)\n",
        "print(classification_report(ypred, y_test, digits=4))\n",
        "mat_labels = np.unique(y_train)\n",
        "mat = confusion_matrix(y_test, ypred).T\n",
        "mat_df = pd.DataFrame(mat, index=mat_labels, columns=mat_labels)\n",
        "plt.rc('font', size=12)\n",
        "print_confusion_matrix(mat_df, mat_labels, Cmap=sns.color_palette(\"crest\", as_cmap=True))\n",
        "plt.title('Random Forest Multiclass Confusion Matrix')\n",
        "plt.xlabel('true label')\n",
        "plt.ylabel('predicted label');"
      ],
      "metadata": {
        "id": "Pwd0YuIVUDnT"
      },
      "execution_count": null,
      "outputs": []
    },
    {
      "cell_type": "code",
      "source": [
        "f, ax = plt.subplots(figsize=(20, 14))\n",
        "plot = sns.barplot(x=np.arange(1, 31), y=model.feature_importances_)\n",
        "ax.set_title('Feature Importance (Random Forest Multiclass)')\n",
        "plot.set_xticklabels(plot.get_xticklabels())\n",
        "plt.xlabel('PCA Transformed Features')\n",
        "plt.rc('font', size=20)\n",
        "plt.rc('axes', titlesize=20)\n",
        "plt.show()"
      ],
      "metadata": {
        "id": "QPYpFIlhJ_jN"
      },
      "execution_count": null,
      "outputs": []
    },
    {
      "cell_type": "markdown",
      "source": [
        "# Part 5: Joblib Saving Model -- Random Forest"
      ],
      "metadata": {
        "id": "GOB6yMjenEVO"
      }
    },
    {
      "cell_type": "code",
      "source": [
        "# save\n",
        "#joblib.dump(model, \"rf_e6_dep45_splt15_leaf3.joblib\")\n",
        "model = joblib.load(\"xgb_dep43_n6.joblib\")"
      ],
      "metadata": {
        "id": "QZuVPyo8RFMS"
      },
      "execution_count": null,
      "outputs": []
    },
    {
      "cell_type": "code",
      "source": [
        "# load\n",
        "#model2 = joblib.load(\"e6_dep43_splt10_leaf3.joblib\")\n",
        "ypred = model.predict(X_test)\n",
        "print(classification_report(ypred, y_test, digits=4))\n",
        "\n",
        "mat_labels = np.unique(y_train)\n",
        "mat = confusion_matrix(y_test, ypred).T\n",
        "mat_df = pd.DataFrame(mat, index=mat_labels, columns=mat_labels)\n",
        "plt.rc('font', size=12)\n",
        "print_confusion_matrix(mat_df, mat_labels, figsize = (10,7), Cmap=sns.light_palette(\"seagreen\", as_cmap=True))\n",
        "plt.title('XGBoost Binary Confusion Matrix')\n",
        "plt.xlabel('true label')\n",
        "plt.ylabel('predicted label');"
      ],
      "metadata": {
        "id": "VIHZgVgXSVYJ"
      },
      "execution_count": null,
      "outputs": []
    },
    {
      "cell_type": "code",
      "source": [
        "f, ax = plt.subplots(figsize=(20, 14))\n",
        "plot = sns.barplot(x=np.arange(1, 31), y=model.feature_importances_)\n",
        "ax.set_title('Feature Importance (XGBoost Binary)')\n",
        "plot.set_xticklabels(plot.get_xticklabels())\n",
        "plt.xlabel('PCA Transformed Features')\n",
        "plt.rc('font', size=20)\n",
        "plt.rc('axes', titlesize=20)\n",
        "plt.show()"
      ],
      "metadata": {
        "id": "JNKTzOYUXtp1"
      },
      "execution_count": null,
      "outputs": []
    },
    {
      "cell_type": "code",
      "source": [
        "import graphviz\n",
        "xgb.to_graphviz(model, num_trees=1)"
      ],
      "metadata": {
        "id": "jR5VjfODa6w-"
      },
      "execution_count": null,
      "outputs": []
    },
    {
      "cell_type": "markdown",
      "source": [
        "# Part 7: XGBoost"
      ],
      "metadata": {
        "id": "osojnsI66j0r"
      }
    },
    {
      "cell_type": "code",
      "source": [
        "xgb_classifier = xgb.XGBClassifier(booster='gbtree', objective=\"binary:logistic\", subsample=0.8,\n",
        "                                   n_estimators=6, max_features='sqrt', max_depth=45, min_samples_split=15, min_samples_leaf=3)\n",
        "xgb_model = xgb_classifier.fit(X_train, y_train)\n",
        "ypred = xgb_model.predict(X_test)\n",
        "#print(confusion_matrix(y_test, ypred))"
      ],
      "metadata": {
        "id": "RI9WpO9A65Ri"
      },
      "execution_count": null,
      "outputs": []
    },
    {
      "cell_type": "code",
      "source": [
        "#joblib.dump(xgb_model, \"xgb_dep43_n6.joblib\")\n",
        "#xgb_model2 = joblib.load(\"xgb_dep43_n6.joblib\")\n",
        "ypred = xgb_model.predict(X_test)\n",
        "print(classification_report(ypred, y_test, digits=4))\n",
        "mat = confusion_matrix(y_test, ypred)\n",
        "sns.heatmap(mat.T, square=True, annot=True, fmt='d', cbar=False,\n",
        "            xticklabels=['ATTACK', 'BENIGN'],\n",
        "            yticklabels=['ATTACK', 'BENIGN'])\n",
        "plt.title('Random Forest Confusion Matrix')\n",
        "plt.xlabel('true label')\n",
        "plt.ylabel('predicted label');"
      ],
      "metadata": {
        "id": "u7Oa8Y7VQWZ0"
      },
      "execution_count": null,
      "outputs": []
    },
    {
      "cell_type": "code",
      "source": [
        "xgb_classifier = xgb.XGBClassifier(booster='gbtree', objective=\"multi:softmax\", subsample=0.6,\n",
        "                                   n_estimators=6, max_features='sqrt', max_depth=45, min_samples_split=15, min_samples_leaf=3)\n",
        "xgb_model = xgb_classifier.fit(X_train, y_train)\n",
        "ypred = xgb_model.predict(X_test)\n",
        "#print(confusion_matrix(y_test, ypred))"
      ],
      "metadata": {
        "id": "GoglSm4eqmq4"
      },
      "execution_count": null,
      "outputs": []
    },
    {
      "cell_type": "code",
      "source": [
        "mat_labels = np.unique(y_train)\n",
        "mat = confusion_matrix(y_test, ypred).T\n",
        "mat_df = pd.DataFrame(mat, index=mat_labels, columns=mat_labels)\n",
        "print_confusion_matrix(mat_df, mat_labels, Cmap='Greens')\n",
        "plt.title('XGBoost Multiclass Confusion Matrix')\n",
        "plt.xlabel('true label')\n",
        "plt.ylabel('predicted label');"
      ],
      "metadata": {
        "id": "u-I1XVdrULMN"
      },
      "execution_count": null,
      "outputs": []
    },
    {
      "cell_type": "markdown",
      "source": [
        "# Part 4-2: Random Forest Cross Validation"
      ],
      "metadata": {
        "id": "gPOQ4-rLRw0G"
      }
    },
    {
      "cell_type": "code",
      "source": [
        "# since trainning for RF is rather time-intensive, we will use RandomizedSearchCV\n",
        "# for cross-validation\n",
        "n_estimators = [6, 7]\n",
        "max_depth = [int(x) for x in np.linspace(40, 45, num = 6)]\n",
        "max_depth.append(None)\n",
        "min_samples_leaf = [2, 3, 4, 5]\n",
        "min_samples_split = [8, 10, 12, 14]\n",
        "max_features = ['sqrt', 'log2']\n",
        "random_grid = {'n_estimators': n_estimators,\n",
        "               'max_depth': max_depth,\n",
        "               'min_samples_split': min_samples_split,\n",
        "               'min_samples_leaf': min_samples_leaf,\n",
        "               'max_features': max_features}\n",
        "print(random_grid)"
      ],
      "metadata": {
        "id": "OizUUe-3GhLO"
      },
      "execution_count": null,
      "outputs": []
    },
    {
      "cell_type": "code",
      "source": [
        "# cross-validation with scoring based on recall\n",
        "rf = RandomForestClassifier()\n",
        "rf_random  = RandomizedSearchCV(estimator=rf, scoring='recall', param_distributions=random_grid, n_iter=5, cv=3, verbose=2, random_state=42, n_jobs=-1)\n",
        "rf_random.fit(X_train, y_train)\n",
        "print(rf_random.best_params_)"
      ],
      "metadata": {
        "id": "fYINvxz9KXAy"
      },
      "execution_count": null,
      "outputs": []
    },
    {
      "cell_type": "code",
      "source": [
        "# visualizing the confusion matrix of the best model out of RandomizedSearchCV\n",
        "rf_best = rf_random.best_estimator_\n",
        "ypred = rf_best.predict(X_test)\n",
        "mat = confusion_matrix(y_test, ypred)\n",
        "sns.heatmap(mat.T, square=True, annot=True, fmt='d', cbar=False,\n",
        "            xticklabels=['ATTACK', 'BENIGN'],\n",
        "            yticklabels=['ATTACK', 'BENIGN'])\n",
        "plt.title('Random Forest Confusion Matrix')\n",
        "plt.xlabel('true label')\n",
        "plt.ylabel('predicted label');\n",
        "print([estimator.get_depth() for estimator in rf_best.estimators_])"
      ],
      "metadata": {
        "id": "9CQeSzEhnzoa"
      },
      "execution_count": null,
      "outputs": []
    },
    {
      "cell_type": "markdown",
      "source": [
        "# Part Last: other codes"
      ],
      "metadata": {
        "id": "2qrdHd60N8SP"
      }
    },
    {
      "cell_type": "code",
      "source": [
        "#all disposable codes\n",
        "\"\"\"\n",
        "from google.colab import drive\n",
        "drive.mount('drive')\n",
        "totalMatrix = pd.read_csv('/content/drive/MyDrive/ML Project/totalMatrix_cleaned.csv')\n",
        "totalMatrix.to_csv('totalMatrix_cleaned.csv')\n",
        "!cp totalMatrix_cleaned.csv \"drive/My Drive/\"\n",
        "mon_data = pd.read_csv('/content/drive/MyDrive/ML Project/MachineLearningCVE/Monday-WorkingHours.pcap_ISCX.csv')\n",
        "tues_data = pd.read_csv('/content/drive/MyDrive/ML Project/MachineLearningCVE/Tuesday-WorkingHours.pcap_ISCX.csv')\n",
        "wed_data = pd.read_csv('/content/drive/MyDrive/ML Project/MachineLearningCVE/Wednesday-workingHours.pcap_ISCX.csv')\n",
        "thrs_morning_data = pd.read_csv('/content/drive/MyDrive/ML Project/MachineLearningCVE/Thursday-WorkingHours-Morning-WebAttacks.pcap_ISCX.csv')\n",
        "thrs_afternoon_data = pd.read_csv('/content/drive/MyDrive/ML Project/MachineLearningCVE/Thursday-WorkingHours-Afternoon-Infilteration.pcap_ISCX.csv')\n",
        "fri_morning_data = pd.read_csv('/content/drive/MyDrive/ML Project/MachineLearningCVE/Friday-WorkingHours-Morning.pcap_ISCX.csv')\n",
        "fri_port_data = pd.read_csv('/content/drive/MyDrive/ML Project/MachineLearningCVE/Friday-WorkingHours-Afternoon-PortScan.pcap_ISCX.csv')\n",
        "fri_ddos_data = pd.read_csv('/content/drive/MyDrive/ML Project/MachineLearningCVE/Friday-WorkingHours-Afternoon-DDos.pcap_ISCX.csv')\n",
        "totalMatrix = pd.concat([mon_data, tues_data, wed_data, thrs_morning_data, thrs_afternoon_data, fri_morning_data, fri_port_data, fri_ddos_data], axis=0)\n",
        "# Get rid of all data points with NaN and inf\n",
        "with pd.option_context('mode.use_inf_as_na', True):\n",
        "  totalMatrix = totalMatrix.dropna()\n",
        "benign_1 = np.array([mon_data.iloc[:, 78] == 'BENIGN']).T\n",
        "print(mon_data.shape[0] - np.sum(benign_1))\n",
        "benign_2 = np.array([tues_data.iloc[:, 78] == 'BENIGN']).T\n",
        "print(tues_data.shape[0] - np.sum(benign_2))\n",
        "benign_3 = np.array([wed_data.iloc[:, 78] == 'BENIGN']).T\n",
        "print(wed_data.shape[0] - np.sum(benign_3))\n",
        "benign_4 = np.array([thrs_data.iloc[:, 78] == 'BENIGN']).T\n",
        "print(thrs_data.shape[0] - np.sum(benign_4))\n",
        "benign_5 = np.array([fri_data.iloc[:, 78] == 'BENIGN']).T\n",
        "print(fri_data.shape[0] - np.sum(benign_5))\n",
        "\"\"\"\n",
        "\"\"\"\n",
        "benign_mask = np.array([y_train == 'BENIGN']).T\n",
        "attack_mask = np.invert(benign_mask)\n",
        "training_attack = X_train.iloc[attack_mask, :]\n",
        "# random selection of training_benign\n",
        "choices = np.random.choice(np.sum(benign_mask), size = 2 * np.sum(attack_mask), replace = False)\n",
        "training_benign = X_train.iloc[choices, :]\n",
        "# concatenate training_attack and training_benign for pca dimensionality reduction\n",
        "pca_input_matrix = pd.concat([training_attack, training_benign], axis=0)\n",
        "#print(pca_input_matrix.shape)\n",
        "from ast import increment_lineno\n",
        "%matplotlib increment_lineno\n",
        "plt.figure(figsize = (10,7))\n",
        "sn.heatmap(cm, annot=True)\n",
        "plt.xlabel('Predict')\n",
        "plt.ylabel('Truth')\n",
        "\"\"\""
      ],
      "metadata": {
        "id": "k4aEE2PlwX1P"
      },
      "execution_count": null,
      "outputs": []
    },
    {
      "cell_type": "code",
      "source": [
        "from sklearn.svm import SVC"
      ],
      "metadata": {
        "id": "dEeROI16PaPf"
      },
      "execution_count": null,
      "outputs": []
    },
    {
      "cell_type": "code",
      "source": [
        "model = SVC(kernel='rbf', C=100, gamma=0.001)\n",
        "model.fit(X_train, y_train)\n",
        "ypred = model.predict(X_test)\n",
        "print(model.score(X_test, y_test))"
      ],
      "metadata": {
        "id": "UdrL4O7tN8JF"
      },
      "execution_count": null,
      "outputs": []
    },
    {
      "cell_type": "code",
      "source": [
        "#print(classification_report(ypred, y_test, digits=4))\n",
        "mat = confusion_matrix(y_test, ypred)\n",
        "sns.heatmap(mat.T, square=True, annot=True, fmt='d', cbar=False,\n",
        "            xticklabels=['ATTACK', 'BENIGN'],\n",
        "            yticklabels=['ATTACK', 'BENIGN'])\n",
        "plt.title('Support Vector Machine Confusion Matrix')\n",
        "plt.xlabel('true label')\n",
        "plt.ylabel('predicted label');"
      ],
      "metadata": {
        "id": "NcosUhLJPShM"
      },
      "execution_count": null,
      "outputs": []
    }
  ],
  "metadata": {
    "colab": {
      "collapsed_sections": [
        "6vynNUMJyFhJ",
        "GOB6yMjenEVO",
        "gPOQ4-rLRw0G",
        "2qrdHd60N8SP"
      ],
      "provenance": []
    },
    "kernelspec": {
      "display_name": "Python 3",
      "name": "python3"
    },
    "language_info": {
      "name": "python"
    }
  },
  "nbformat": 4,
  "nbformat_minor": 0
}